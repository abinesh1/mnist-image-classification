{
 "cells": [
  {
   "cell_type": "markdown",
   "metadata": {},
   "source": [
    "# Convolutional neural networks"
   ]
  },
  {
   "cell_type": "markdown",
   "metadata": {},
   "source": [
    "# MNIST - image classification"
   ]
  },
  {
   "cell_type": "markdown",
   "metadata": {},
   "source": [
    "### Imports"
   ]
  },
  {
   "cell_type": "code",
   "execution_count": 2,
   "metadata": {},
   "outputs": [],
   "source": [
    "import numpy as np\n",
    "import matplotlib.pyplot as plt\n",
    "import datetime\n",
    "from sklearn.metrics import confusion_matrix\n",
    "%matplotlib inline\n",
    "from datetime import timedelta\n",
    "import math\n",
    "import tensorflow as tf\n",
    "import time"
   ]
  },
  {
   "cell_type": "markdown",
   "metadata": {},
   "source": [
    "#### Tensorflow version"
   ]
  },
  {
   "cell_type": "code",
   "execution_count": 3,
   "metadata": {},
   "outputs": [
    {
     "data": {
      "text/plain": [
       "'1.4.0'"
      ]
     },
     "execution_count": 3,
     "metadata": {},
     "output_type": "execute_result"
    }
   ],
   "source": [
    "tf.__version__"
   ]
  },
  {
   "cell_type": "markdown",
   "metadata": {},
   "source": [
    "## Setting Hyperparameters"
   ]
  },
  {
   "cell_type": "code",
   "execution_count": 4,
   "metadata": {},
   "outputs": [],
   "source": [
    "#for conv layer 1\n",
    "filter_size1= 5        # filter size of 5x5\n",
    "num_filters1= 16       # output channel size\n",
    "\n",
    "# for conv layer 2\n",
    "filter_size2= 5        #filter size of 5x5\n",
    "num_filters2=36        # output channel size\n",
    "\n",
    "# number of neurons in fully connected layer\n",
    "fc_size=128"
   ]
  },
  {
   "cell_type": "markdown",
   "metadata": {},
   "source": [
    "## Importing data-sets"
   ]
  },
  {
   "cell_type": "markdown",
   "metadata": {},
   "source": [
    "The data-set will be downloaded automatically if they are not in the given path. The class labels are then one hot encoded to convert them to labels ranging from 0 to 9."
   ]
  },
  {
   "cell_type": "code",
   "execution_count": 5,
   "metadata": {},
   "outputs": [
    {
     "name": "stdout",
     "output_type": "stream",
     "text": [
      "Extracting data/MNIST/train-images-idx3-ubyte.gz\n",
      "Extracting data/MNIST/train-labels-idx1-ubyte.gz\n",
      "Extracting data/MNIST/t10k-images-idx3-ubyte.gz\n",
      "Extracting data/MNIST/t10k-labels-idx1-ubyte.gz\n"
     ]
    }
   ],
   "source": [
    "from tensorflow.examples.tutorials.mnist import input_data\n",
    "data=input_data.read_data_sets(\"data/MNIST/\", one_hot=True)"
   ]
  },
  {
   "cell_type": "markdown",
   "metadata": {},
   "source": [
    "### Data-set sizes"
   ]
  },
  {
   "cell_type": "code",
   "execution_count": 6,
   "metadata": {},
   "outputs": [
    {
     "name": "stdout",
     "output_type": "stream",
     "text": [
      "Size of\n",
      "--train labels     :  55000\n",
      "--validation labels:  5000\n",
      "--test labels      :  10000\n"
     ]
    }
   ],
   "source": [
    "print(\"Size of\")\n",
    "print(\"--train labels     : \",len(data.train.labels))\n",
    "print(\"--validation labels: \",len(data.validation.labels))\n",
    "print(\"--test labels      : \",len(data.test.labels))"
   ]
  },
  {
   "cell_type": "code",
   "execution_count": 7,
   "metadata": {},
   "outputs": [],
   "source": [
    "# assigning test labels to test class variable\n",
    "data.test.cls=np.argmax(data.test.labels, axis=1)"
   ]
  },
  {
   "cell_type": "markdown",
   "metadata": {},
   "source": [
    "## Data dimensions"
   ]
  },
  {
   "cell_type": "code",
   "execution_count": 8,
   "metadata": {},
   "outputs": [],
   "source": [
    "# we know that the resolution of each image in the dataset is 28x28\n",
    "img_size=28       \n",
    "img_size_flat=img_size*img_size\n",
    "img_shape=(img_size,img_size)\n",
    "\n",
    "# Since greyscale, the number of channels is 1\n",
    "num_channels=1\n",
    "\n",
    "# 10 classes ranging from 0 to 9\n",
    "num_classes=10"
   ]
  },
  {
   "cell_type": "markdown",
   "metadata": {},
   "source": [
    "## Helper function to plot images\n",
    "\n",
    "This function plots images in a 3x3 grid and labeling true and predicted classes below each image"
   ]
  },
  {
   "cell_type": "code",
   "execution_count": 9,
   "metadata": {},
   "outputs": [],
   "source": [
    "def plot_images(images, cls_true, cls_pred=None):\n",
    "    assert len(images)== len(cls_true)==9\n",
    "    \n",
    "    fig, axes=plt.subplots(3,3)\n",
    "    fig.subplots_adjust(hspace=0.3, wspace=0.3)\n",
    "    \n",
    "    for i,ax in enumerate(axes.flat):\n",
    "        ax.imshow(images[i].reshape(img_shape),cmap='binary')\n",
    "        \n",
    "        if cls_pred is None:\n",
    "            xlabel=\"True: {}\".format(cls_true[i])\n",
    "        else:\n",
    "            xlabel= \"True: {} Predict: {}\".format(cls_true[i],cls_pred[i])\n",
    "        ax.set_xlabel(xlabel)\n",
    "        \n",
    "        ax.set_xticks([])\n",
    "        ax.set_yticks([])\n",
    "        \n",
    "    plt.show()\n",
    "    "
   ]
  },
  {
   "cell_type": "markdown",
   "metadata": {},
   "source": [
    "### Displaying first few images in the test set"
   ]
  },
  {
   "cell_type": "code",
   "execution_count": 10,
   "metadata": {},
   "outputs": [
    {
     "data": {
      "image/png": "[encoded data removed]",
      "text/plain": [
       "<matplotlib.figure.Figure at 0x1675f8c0d68>"
      ]
     },
     "metadata": {},
     "output_type": "display_data"
    }
   ],
   "source": [
    "images=data.test.images[0:9]\n",
    "\n",
    "cls_true=data.test.cls[0:9]\n",
    "\n",
    "plot_images(images=images,cls_true=cls_true)"
   ]
  },
  {
   "cell_type": "markdown",
   "metadata": {},
   "source": [
    "## Helper functions to create new variables"
   ]
  },
  {
   "cell_type": "code",
   "execution_count": 11,
   "metadata": {},
   "outputs": [],
   "source": [
    "def new_weights(shape):\n",
    "    return tf.Variable(tf.truncated_normal(shape,stddev=0.05))"
   ]
  },
  {
   "cell_type": "code",
   "execution_count": 12,
   "metadata": {},
   "outputs": [],
   "source": [
    "def new_biases(length):\n",
    "    return tf.Variable(tf.constant(0.05,shape=[length]))"
   ]
  },
  {
   "cell_type": "markdown",
   "metadata": {},
   "source": [
    "## Helper function for creating convolutional layer\n",
    "\n",
    "Input - 4 dimensional tensor\n",
    " - image number\n",
    " - y axis of image\n",
    " - x axis of image\n",
    " - channel of each image\n",
    " \n",
    "Output - 4 dimensional tensor\n",
    " - image number\n",
    " - y axis \n",
    " - x axis\n",
    " - channel produced by filters"
   ]
  },
  {
   "cell_type": "code",
   "execution_count": 13,
   "metadata": {},
   "outputs": [],
   "source": [
    "# Has relu and pooling layers\n",
    "\n",
    "def new_conv_layer(input, num_input_channels, filter_size, num_filters, use_pooling=True):\n",
    "    \n",
    "    # shape of filter weights for convolution\n",
    "    shape=[filter_size,filter_size,num_input_channels, num_filters]\n",
    "    \n",
    "    weights=new_weights(shape)\n",
    "    \n",
    "    bias=new_biases(length=num_filters)\n",
    "    \n",
    "    #vary strides to [1,2,2,1] for 2x2 stride movement of the filter\n",
    "    layer=tf.nn.conv2d(input=input, filter=weights,strides=[1,1,1,1], padding=\"SAME\")\n",
    "    \n",
    "    #adding bias\n",
    "    layer=tf.nn.bias_add(layer,bias)\n",
    "    \n",
    "    #down sampling image\n",
    "    if use_pooling:\n",
    "        layer=tf.nn.max_pool(value=layer, ksize=[1,2,2,1], strides=[1,2,2,1], padding=\"SAME\")\n",
    "    \n",
    "    #ReLU layer\n",
    "    #calculates max(x,0) for eaxh pixel x. Adds linearity to learn more complicated functions\n",
    "    layer=tf.nn.relu(layer)\n",
    "    \n",
    "    #returning the conv layer and weights for later visualizations.\n",
    "    return layer,weights "
   ]
  },
  {
   "cell_type": "markdown",
   "metadata": {},
   "source": [
    "## Helper function for flattening layer\n",
    "\n",
    "Converts the 4 dimensional output of a conv layer to 2 dimensional tensor which can act as an input for the fully connected layer."
   ]
  },
  {
   "cell_type": "code",
   "execution_count": 14,
   "metadata": {},
   "outputs": [],
   "source": [
    "def flatten_layer(layer):\n",
    "    layer_shape=layer.get_shape()\n",
    "    \n",
    "    num_features=layer_shape[1:4].num_elements()\n",
    "    \n",
    "    layer_flat=tf.reshape(layer,[-1,num_features])\n",
    "    \n",
    "    return layer_flat,num_features"
   ]
  },
  {
   "cell_type": "markdown",
   "metadata": {},
   "source": [
    "## Helper function for the fully connected layer"
   ]
  },
  {
   "cell_type": "code",
   "execution_count": 15,
   "metadata": {},
   "outputs": [],
   "source": [
    "def new_fc_layer(input, num_inputs, num_outputs, use_relu=True):\n",
    "    \n",
    "    weights=new_weights(shape=[num_inputs,num_outputs])\n",
    "    \n",
    "    bias=new_biases(num_outputs)\n",
    "    \n",
    "    layer=tf.add(tf.matmul(input, weights),bias)\n",
    "    \n",
    "    if use_relu:\n",
    "        layer=tf.nn.relu(layer)\n",
    "    \n",
    "    return layer"
   ]
  },
  {
   "cell_type": "markdown",
   "metadata": {},
   "source": [
    "## Placeholders "
   ]
  },
  {
   "cell_type": "code",
   "execution_count": 16,
   "metadata": {},
   "outputs": [],
   "source": [
    "# for input images\n",
    "x=tf.placeholder(tf.float32, shape=[None, img_size_flat],name= 'x')\n",
    "\n",
    "#for reshaping the image to a 4 dimensional tensor for the conv layer input\n",
    "x_image=tf.reshape(x,[-1,img_size,img_size,num_channels])"
   ]
  },
  {
   "cell_type": "code",
   "execution_count": 17,
   "metadata": {},
   "outputs": [],
   "source": [
    "#variable for true label\n",
    "y_true=tf.placeholder(tf.float32, shape=[None,10], name='y_true')\n",
    "\n",
    "#variable for true class\n",
    "y_true_cls=tf.argmax(y_true,axis=1)"
   ]
  },
  {
   "cell_type": "markdown",
   "metadata": {},
   "source": [
    "## Convolution layer 1"
   ]
  },
  {
   "cell_type": "code",
   "execution_count": 18,
   "metadata": {},
   "outputs": [],
   "source": [
    "layer_conv1,weights_conv1=new_conv_layer(input=x_image, num_input_channels=num_channels,\n",
    "                                        filter_size=filter_size1, num_filters=num_filters1,\n",
    "                                         use_pooling=True)"
   ]
  },
  {
   "cell_type": "code",
   "execution_count": 19,
   "metadata": {},
   "outputs": [
    {
     "data": {
      "text/plain": [
       "<tf.Tensor 'Relu:0' shape=(?, 14, 14, 16) dtype=float32>"
      ]
     },
     "execution_count": 19,
     "metadata": {},
     "output_type": "execute_result"
    }
   ],
   "source": [
    "layer_conv1"
   ]
  },
  {
   "cell_type": "markdown",
   "metadata": {},
   "source": [
    "The output tensor has a shape of 14x14 and there are 16 channels."
   ]
  },
  {
   "cell_type": "markdown",
   "metadata": {},
   "source": [
    "## Convolution layer 2"
   ]
  },
  {
   "cell_type": "code",
   "execution_count": 20,
   "metadata": {},
   "outputs": [],
   "source": [
    "layer_conv2,weights_conv2=new_conv_layer(input=layer_conv1,num_input_channels=num_filters1,\n",
    "                                        filter_size=filter_size2, num_filters=num_filters2,\n",
    "                                        use_pooling=True)"
   ]
  },
  {
   "cell_type": "code",
   "execution_count": 21,
   "metadata": {},
   "outputs": [
    {
     "data": {
      "text/plain": [
       "<tf.Tensor 'Relu_1:0' shape=(?, 7, 7, 36) dtype=float32>"
      ]
     },
     "execution_count": 21,
     "metadata": {},
     "output_type": "execute_result"
    }
   ],
   "source": [
    "layer_conv2"
   ]
  },
  {
   "cell_type": "markdown",
   "metadata": {},
   "source": [
    "The output tensor has a shape of 7x7 and 36 channels."
   ]
  },
  {
   "cell_type": "markdown",
   "metadata": {},
   "source": [
    "## Flattening layer"
   ]
  },
  {
   "cell_type": "code",
   "execution_count": 22,
   "metadata": {},
   "outputs": [],
   "source": [
    "layer_flat,num_features=flatten_layer(layer_conv2)"
   ]
  },
  {
   "cell_type": "code",
   "execution_count": 23,
   "metadata": {},
   "outputs": [
    {
     "data": {
      "text/plain": [
       "<tf.Tensor 'Reshape_1:0' shape=(?, 1764) dtype=float32>"
      ]
     },
     "execution_count": 23,
     "metadata": {},
     "output_type": "execute_result"
    }
   ],
   "source": [
    "layer_flat"
   ]
  },
  {
   "cell_type": "markdown",
   "metadata": {},
   "source": [
    "The tensors now have shape (?, 1764) which means there's an arbitrary number of images which have been flattened to vectors of length 1764 each.\n",
    "\n",
    "1764 = 7 x 7 x 36."
   ]
  },
  {
   "cell_type": "code",
   "execution_count": 24,
   "metadata": {},
   "outputs": [
    {
     "data": {
      "text/plain": [
       "1764"
      ]
     },
     "execution_count": 24,
     "metadata": {},
     "output_type": "execute_result"
    }
   ],
   "source": [
    "num_features"
   ]
  },
  {
   "cell_type": "markdown",
   "metadata": {},
   "source": [
    "## Fully connected layer 1"
   ]
  },
  {
   "cell_type": "code",
   "execution_count": 25,
   "metadata": {},
   "outputs": [],
   "source": [
    "layer_fc1=new_fc_layer(input=layer_flat, num_inputs=num_features, num_outputs=fc_size,\n",
    "                       use_relu=True)"
   ]
  },
  {
   "cell_type": "code",
   "execution_count": 26,
   "metadata": {},
   "outputs": [
    {
     "data": {
      "text/plain": [
       "<tf.Tensor 'Relu_2:0' shape=(?, 128) dtype=float32>"
      ]
     },
     "execution_count": 26,
     "metadata": {},
     "output_type": "execute_result"
    }
   ],
   "source": [
    "layer_fc1"
   ]
  },
  {
   "cell_type": "markdown",
   "metadata": {},
   "source": [
    "## Fully connected layer 2"
   ]
  },
  {
   "cell_type": "markdown",
   "metadata": {},
   "source": [
    "Add another fully-connected layer that outputs vectors of length 10 for determining which of the 10 classes the input image belongs to. ReLU is not used in this layer."
   ]
  },
  {
   "cell_type": "code",
   "execution_count": 27,
   "metadata": {},
   "outputs": [],
   "source": [
    "layer_fc2=new_fc_layer(input=layer_fc1, num_inputs=fc_size, num_outputs=num_classes,\n",
    "                      use_relu=False)"
   ]
  },
  {
   "cell_type": "code",
   "execution_count": 28,
   "metadata": {},
   "outputs": [
    {
     "data": {
      "text/plain": [
       "<tf.Tensor 'Add_1:0' shape=(?, 10) dtype=float32>"
      ]
     },
     "execution_count": 28,
     "metadata": {},
     "output_type": "execute_result"
    }
   ],
   "source": [
    "layer_fc2"
   ]
  },
  {
   "cell_type": "markdown",
   "metadata": {},
   "source": [
    "## Predicted Class"
   ]
  },
  {
   "cell_type": "code",
   "execution_count": 29,
   "metadata": {},
   "outputs": [],
   "source": [
    "#normalizing the output of the fully connected layer to 0 to 1 using softmax.\n",
    "y_pred=tf.nn.softmax(layer_fc2)\n",
    "\n",
    "#class number is the index of the largest element\n",
    "y_pred_cls=tf.argmax(y_pred,axis=1)"
   ]
  },
  {
   "cell_type": "markdown",
   "metadata": {},
   "source": [
    "## Optimization Method"
   ]
  },
  {
   "cell_type": "markdown",
   "metadata": {},
   "source": [
    "The cross-entropy is a performance measure used in classification. The cross-entropy is a continuous function that is always positive and if the predicted output of the model exactly matches the desired output then the cross-entropy equals zero. The goal of optimization is therefore to minimize the cross-entropy so it gets as close to zero as possible by changing the variables of the network layers.\n",
    "\n",
    "TensorFlow has a built-in function for calculating the cross-entropy. The function calculates the softmax internally so we must use the output of layer_fc2 directly rather than y_pred which has already had the softmax applied."
   ]
  },
  {
   "cell_type": "code",
   "execution_count": 30,
   "metadata": {},
   "outputs": [],
   "source": [
    "cross_entropy=tf.nn.softmax_cross_entropy_with_logits(logits=layer_fc2,labels=y_true)"
   ]
  },
  {
   "cell_type": "markdown",
   "metadata": {},
   "source": [
    "Computing a single scalar value of all cross entropies to make it suitable for optimization."
   ]
  },
  {
   "cell_type": "code",
   "execution_count": 31,
   "metadata": {},
   "outputs": [],
   "source": [
    "cost=tf.reduce_mean(cross_entropy)"
   ]
  },
  {
   "cell_type": "markdown",
   "metadata": {},
   "source": [
    "## Optimization method"
   ]
  },
  {
   "cell_type": "code",
   "execution_count": 32,
   "metadata": {},
   "outputs": [],
   "source": [
    "optimizer=tf.train.AdamOptimizer(learning_rate=1e-4).minimize(cost)"
   ]
  },
  {
   "cell_type": "markdown",
   "metadata": {},
   "source": [
    "## Performance metrics"
   ]
  },
  {
   "cell_type": "code",
   "execution_count": 33,
   "metadata": {},
   "outputs": [],
   "source": [
    "correct_prediction=tf.equal(y_pred_cls,y_true_cls)"
   ]
  },
  {
   "cell_type": "code",
   "execution_count": 34,
   "metadata": {},
   "outputs": [],
   "source": [
    "accuracy=tf.reduce_mean(tf.cast(correct_prediction,tf.float32))"
   ]
  },
  {
   "cell_type": "markdown",
   "metadata": {},
   "source": [
    "# Tensorflow run"
   ]
  },
  {
   "cell_type": "markdown",
   "metadata": {},
   "source": [
    "### Create tensorflow session"
   ]
  },
  {
   "cell_type": "code",
   "execution_count": 35,
   "metadata": {},
   "outputs": [],
   "source": [
    "sess=tf.Session()"
   ]
  },
  {
   "cell_type": "markdown",
   "metadata": {},
   "source": [
    "### Initialize all variables"
   ]
  },
  {
   "cell_type": "code",
   "execution_count": 36,
   "metadata": {},
   "outputs": [],
   "source": [
    "sess.run(tf.global_variables_initializer())"
   ]
  },
  {
   "cell_type": "markdown",
   "metadata": {},
   "source": [
    "### Helper function to perform optimize iterations"
   ]
  },
  {
   "cell_type": "markdown",
   "metadata": {},
   "source": [
    "Function for performing a number of optimization iterations so as to gradually improve the variables of the network layers. In each iteration, a new batch of data is selected from the training-set and then TensorFlow executes the optimizer using those training samples. The progress is printed every 100 iterations."
   ]
  },
  {
   "cell_type": "code",
   "execution_count": 37,
   "metadata": {},
   "outputs": [],
   "source": [
    "train_batch_size=64"
   ]
  },
  {
   "cell_type": "code",
   "execution_count": 38,
   "metadata": {},
   "outputs": [],
   "source": [
    "total_iterations=0\n",
    "\n",
    "def optimize(num_iterations):\n",
    "    global total_iterations\n",
    "    \n",
    "    start_time=time.time()\n",
    "    for i in range(total_iterations,total_iterations+num_iterations):\n",
    "        x_batch,y_true_batch=data.train.next_batch(train_batch_size)\n",
    "        \n",
    "        feed_dict_train={x:x_batch,y_true :y_true_batch}\n",
    "        \n",
    "        sess.run(optimizer,feed_dict=feed_dict_train)\n",
    "        \n",
    "        if i%100==0:\n",
    "            acc=sess.run(accuracy, feed_dict=feed_dict_train)\n",
    "            \n",
    "            print(\"Optimization Iteration:{0:>5}  , Accuracy: {1:>6.1%}\".format((i+1),acc))\n",
    "        \n",
    "    end_time=time.time()\n",
    "        \n",
    "    total_time=end_time-start_time\n",
    "        \n",
    "    print(\"Time Used: \"+str(timedelta(seconds=int(round(total_time)))))"
   ]
  },
  {
   "cell_type": "markdown",
   "metadata": {},
   "source": [
    "### Helper function to plot example errors"
   ]
  },
  {
   "cell_type": "markdown",
   "metadata": {},
   "source": [
    "Function for plotting examples of images from the test-set that have been mis-classified."
   ]
  },
  {
   "cell_type": "code",
   "execution_count": 39,
   "metadata": {},
   "outputs": [],
   "source": [
    "def plot_example_errors(cls_pred, correct):\n",
    "    incorrect=(correct==False)\n",
    "    \n",
    "    images=data.test.images[incorrect]\n",
    "    \n",
    "    cls_pred=cls_pred[incorrect]\n",
    "    \n",
    "    cls_true=data.test.cls[incorrect]\n",
    "    \n",
    "    plot_images(images=images[0:9],cls_true=cls_true[0:9],\n",
    "               cls_pred=cls_pred[0:9])\n",
    "    \n",
    "    "
   ]
  },
  {
   "cell_type": "markdown",
   "metadata": {},
   "source": [
    "### Helper function to plot confusion matrix"
   ]
  },
  {
   "cell_type": "code",
   "execution_count": 40,
   "metadata": {},
   "outputs": [],
   "source": [
    "def plot_confusion_matrix(cls_pred):\n",
    "    \n",
    "    cls_true=data.test.cls\n",
    "    \n",
    "    cm=confusion_matrix(y_true=cls_true,y_pred=cls_pred)\n",
    "    \n",
    "    print(cm)\n",
    "    \n",
    "    plt.matshow(cm)\n",
    "    \n",
    "    plt.colorbar()\n",
    "    tick_marks=np.arange(num_classes)\n",
    "    plt.xticks(tick_marks,range(num_classes))\n",
    "    plt.yticks(tick_marks,range(num_classes))\n",
    "    plt.xlabel(\"predicted\")\n",
    "    plt.ylabel(\"true\")\n",
    "    plt.show()\n",
    "    "
   ]
  },
  {
   "cell_type": "markdown",
   "metadata": {},
   "source": [
    "### Function to print accuracy on the test set"
   ]
  },
  {
   "cell_type": "code",
   "execution_count": 41,
   "metadata": {},
   "outputs": [],
   "source": [
    "test_batch_size = 128\n",
    "\n",
    "def print_test_accuracy(show_example_errors=False,\n",
    "                        show_confusion_matrix=False):\n",
    "\n",
    "    num_test = len(data.test.images)\n",
    "\n",
    "    cls_pred = np.zeros(shape=num_test, dtype=np.int)\n",
    "\n",
    "    i = 0\n",
    "\n",
    "    while i < num_test:\n",
    "        j = min(i + test_batch_size, num_test)\n",
    "\n",
    "        images = data.test.images[i:j, :]\n",
    "\n",
    "        labels = data.test.labels[i:j, :]\n",
    "\n",
    "        feed_dict = {x: images,\n",
    "                     y_true: labels}\n",
    "\n",
    "        cls_pred[i:j] = sess.run(y_pred_cls, feed_dict=feed_dict)\n",
    "\n",
    "        i = j\n",
    "\n",
    "    cls_true = data.test.cls\n",
    "\n",
    "    correct = (cls_true == cls_pred)\n",
    "\n",
    "    correct_sum = correct.sum()\n",
    "\n",
    "    acc = float(correct_sum) / num_test\n",
    "\n",
    "    msg = \"Accuracy on Test-Set: {0:.1%} ({1} / {2})\"\n",
    "    print(msg.format(acc, correct_sum, num_test))\n",
    "\n",
    "    if show_example_errors:\n",
    "        print(\"Example errors:\")\n",
    "        plot_example_errors(cls_pred=cls_pred, correct=correct)\n",
    "\n",
    "    if show_confusion_matrix:\n",
    "        print(\"Confusion Matrix:\")\n",
    "        plot_confusion_matrix(cls_pred=cls_pred)"
   ]
  },
  {
   "cell_type": "markdown",
   "metadata": {},
   "source": [
    "### Performance before optimization"
   ]
  },
  {
   "cell_type": "code",
   "execution_count": 42,
   "metadata": {},
   "outputs": [
    {
     "name": "stdout",
     "output_type": "stream",
     "text": [
      "Accuracy on Test-Set: 10.7% (1065 / 10000)\n"
     ]
    }
   ],
   "source": [
    "print_test_accuracy()"
   ]
  },
  {
   "cell_type": "markdown",
   "metadata": {},
   "source": [
    "### Performance after 1 optimization iteration"
   ]
  },
  {
   "cell_type": "code",
   "execution_count": 43,
   "metadata": {},
   "outputs": [
    {
     "name": "stdout",
     "output_type": "stream",
     "text": [
      "Optimization Iteration:    1  , Accuracy:  10.9%\n",
      "Time Used: 0:00:01\n",
      "Accuracy on Test-Set: 10.9% (1092 / 10000)\n"
     ]
    }
   ],
   "source": [
    "optimize(num_iterations=1)\n",
    "print_test_accuracy()"
   ]
  },
  {
   "cell_type": "markdown",
   "metadata": {},
   "source": [
    "### Performance after 100 optimization iterations"
   ]
  },
  {
   "cell_type": "code",
   "execution_count": 44,
   "metadata": {},
   "outputs": [
    {
     "name": "stdout",
     "output_type": "stream",
     "text": [
      "Optimization Iteration:    1  , Accuracy:  14.1%\n",
      "Time Used: 0:00:02\n"
     ]
    }
   ],
   "source": [
    "optimize(num_iterations=100)"
   ]
  },
  {
   "cell_type": "code",
   "execution_count": 45,
   "metadata": {},
   "outputs": [
    {
     "name": "stdout",
     "output_type": "stream",
     "text": [
      "Accuracy on Test-Set: 67.5% (6752 / 10000)\n",
      "Example errors:\n"
     ]
    },
    {
     "data": {
      "image/png": "[encoded data removed]",
      "text/plain": [
       "<matplotlib.figure.Figure at 0x16763f8a9e8>"
      ]
     },
     "metadata": {},
     "output_type": "display_data"
    }
   ],
   "source": [
    "print_test_accuracy(show_example_errors=True)"
   ]
  },
  {
   "cell_type": "markdown",
   "metadata": {},
   "source": [
    "### Performance after 1000 optimization iterations"
   ]
  },
  {
   "cell_type": "code",
   "execution_count": 46,
   "metadata": {},
   "outputs": [
    {
     "name": "stdout",
     "output_type": "stream",
     "text": [
      "Optimization Iteration:    1  , Accuracy:  70.3%\n",
      "Optimization Iteration:  101  , Accuracy:  76.6%\n",
      "Optimization Iteration:  201  , Accuracy:  90.6%\n",
      "Optimization Iteration:  301  , Accuracy:  92.2%\n",
      "Optimization Iteration:  401  , Accuracy:  85.9%\n",
      "Optimization Iteration:  501  , Accuracy:  85.9%\n",
      "Optimization Iteration:  601  , Accuracy:  93.8%\n",
      "Optimization Iteration:  701  , Accuracy:  95.3%\n",
      "Optimization Iteration:  801  , Accuracy:  98.4%\n",
      "Optimization Iteration:  901  , Accuracy:  92.2%\n",
      "Time Used: 0:00:18\n"
     ]
    }
   ],
   "source": [
    "optimize(num_iterations=1000)"
   ]
  },
  {
   "cell_type": "code",
   "execution_count": 47,
   "metadata": {},
   "outputs": [
    {
     "name": "stdout",
     "output_type": "stream",
     "text": [
      "Accuracy on Test-Set: 94.3% (9427 / 10000)\n",
      "Example errors:\n"
     ]
    },
    {
     "data": {
      "image/png": "[encoded data removed]",
      "text/plain": [
       "<matplotlib.figure.Figure at 0x16761aed780>"
      ]
     },
     "metadata": {},
     "output_type": "display_data"
    }
   ],
   "source": [
    "print_test_accuracy(show_example_errors=True)"
   ]
  },
  {
   "cell_type": "markdown",
   "metadata": {},
   "source": [
    "### Performance after 9000 optimization iterations"
   ]
  },
  {
   "cell_type": "code",
   "execution_count": 48,
   "metadata": {},
   "outputs": [
    {
     "name": "stdout",
     "output_type": "stream",
     "text": [
      "Optimization Iteration:    1  , Accuracy:  98.4%\n",
      "Optimization Iteration:  101  , Accuracy:  95.3%\n",
      "Optimization Iteration:  201  , Accuracy:  95.3%\n",
      "Optimization Iteration:  301  , Accuracy:  95.3%\n",
      "Optimization Iteration:  401  , Accuracy:  95.3%\n",
      "Optimization Iteration:  501  , Accuracy:  93.8%\n",
      "Optimization Iteration:  601  , Accuracy:  96.9%\n",
      "Optimization Iteration:  701  , Accuracy:  98.4%\n",
      "Optimization Iteration:  801  , Accuracy:  96.9%\n",
      "Optimization Iteration:  901  , Accuracy:  96.9%\n",
      "Optimization Iteration: 1001  , Accuracy:  93.8%\n",
      "Optimization Iteration: 1101  , Accuracy:  95.3%\n",
      "Optimization Iteration: 1201  , Accuracy:  96.9%\n",
      "Optimization Iteration: 1301  , Accuracy:  92.2%\n",
      "Optimization Iteration: 1401  , Accuracy:  95.3%\n",
      "Optimization Iteration: 1501  , Accuracy:  98.4%\n",
      "Optimization Iteration: 1601  , Accuracy:  96.9%\n",
      "Optimization Iteration: 1701  , Accuracy:  92.2%\n",
      "Optimization Iteration: 1801  , Accuracy:  95.3%\n",
      "Optimization Iteration: 1901  , Accuracy:  95.3%\n",
      "Optimization Iteration: 2001  , Accuracy:  98.4%\n",
      "Optimization Iteration: 2101  , Accuracy:  95.3%\n",
      "Optimization Iteration: 2201  , Accuracy:  98.4%\n",
      "Optimization Iteration: 2301  , Accuracy:  98.4%\n",
      "Optimization Iteration: 2401  , Accuracy:  95.3%\n",
      "Optimization Iteration: 2501  , Accuracy: 100.0%\n",
      "Optimization Iteration: 2601  , Accuracy:  96.9%\n",
      "Optimization Iteration: 2701  , Accuracy: 100.0%\n",
      "Optimization Iteration: 2801  , Accuracy:  96.9%\n",
      "Optimization Iteration: 2901  , Accuracy:  98.4%\n",
      "Optimization Iteration: 3001  , Accuracy:  98.4%\n",
      "Optimization Iteration: 3101  , Accuracy:  96.9%\n",
      "Optimization Iteration: 3201  , Accuracy:  98.4%\n",
      "Optimization Iteration: 3301  , Accuracy:  95.3%\n",
      "Optimization Iteration: 3401  , Accuracy:  95.3%\n",
      "Optimization Iteration: 3501  , Accuracy: 100.0%\n",
      "Optimization Iteration: 3601  , Accuracy:  98.4%\n",
      "Optimization Iteration: 3701  , Accuracy:  96.9%\n",
      "Optimization Iteration: 3801  , Accuracy: 100.0%\n",
      "Optimization Iteration: 3901  , Accuracy:  96.9%\n",
      "Optimization Iteration: 4001  , Accuracy: 100.0%\n",
      "Optimization Iteration: 4101  , Accuracy: 100.0%\n",
      "Optimization Iteration: 4201  , Accuracy:  96.9%\n",
      "Optimization Iteration: 4301  , Accuracy: 100.0%\n",
      "Optimization Iteration: 4401  , Accuracy:  96.9%\n",
      "Optimization Iteration: 4501  , Accuracy:  98.4%\n",
      "Optimization Iteration: 4601  , Accuracy:  96.9%\n",
      "Optimization Iteration: 4701  , Accuracy:  96.9%\n",
      "Optimization Iteration: 4801  , Accuracy:  96.9%\n",
      "Optimization Iteration: 4901  , Accuracy: 100.0%\n",
      "Optimization Iteration: 5001  , Accuracy:  98.4%\n",
      "Optimization Iteration: 5101  , Accuracy: 100.0%\n",
      "Optimization Iteration: 5201  , Accuracy: 100.0%\n",
      "Optimization Iteration: 5301  , Accuracy: 100.0%\n",
      "Optimization Iteration: 5401  , Accuracy:  98.4%\n",
      "Optimization Iteration: 5501  , Accuracy:  98.4%\n",
      "Optimization Iteration: 5601  , Accuracy: 100.0%\n",
      "Optimization Iteration: 5701  , Accuracy: 100.0%\n",
      "Optimization Iteration: 5801  , Accuracy:  96.9%\n",
      "Optimization Iteration: 5901  , Accuracy: 100.0%\n",
      "Optimization Iteration: 6001  , Accuracy:  95.3%\n",
      "Optimization Iteration: 6101  , Accuracy: 100.0%\n",
      "Optimization Iteration: 6201  , Accuracy:  98.4%\n",
      "Optimization Iteration: 6301  , Accuracy: 100.0%\n",
      "Optimization Iteration: 6401  , Accuracy:  95.3%\n",
      "Optimization Iteration: 6501  , Accuracy:  98.4%\n",
      "Optimization Iteration: 6601  , Accuracy:  98.4%\n",
      "Optimization Iteration: 6701  , Accuracy:  96.9%\n",
      "Optimization Iteration: 6801  , Accuracy: 100.0%\n",
      "Optimization Iteration: 6901  , Accuracy:  96.9%\n",
      "Optimization Iteration: 7001  , Accuracy:  98.4%\n",
      "Optimization Iteration: 7101  , Accuracy: 100.0%\n",
      "Optimization Iteration: 7201  , Accuracy: 100.0%\n",
      "Optimization Iteration: 7301  , Accuracy:  98.4%\n",
      "Optimization Iteration: 7401  , Accuracy: 100.0%\n",
      "Optimization Iteration: 7501  , Accuracy:  98.4%\n",
      "Optimization Iteration: 7601  , Accuracy: 100.0%\n",
      "Optimization Iteration: 7701  , Accuracy:  98.4%\n",
      "Optimization Iteration: 7801  , Accuracy:  98.4%\n",
      "Optimization Iteration: 7901  , Accuracy:  98.4%\n",
      "Optimization Iteration: 8001  , Accuracy:  98.4%\n",
      "Optimization Iteration: 8101  , Accuracy: 100.0%\n",
      "Optimization Iteration: 8201  , Accuracy: 100.0%\n",
      "Optimization Iteration: 8301  , Accuracy:  98.4%\n",
      "Optimization Iteration: 8401  , Accuracy:  98.4%\n",
      "Optimization Iteration: 8501  , Accuracy:  98.4%\n",
      "Optimization Iteration: 8601  , Accuracy: 100.0%\n",
      "Optimization Iteration: 8701  , Accuracy: 100.0%\n",
      "Optimization Iteration: 8801  , Accuracy: 100.0%\n",
      "Optimization Iteration: 8901  , Accuracy: 100.0%\n",
      "Time Used: 0:02:45\n"
     ]
    }
   ],
   "source": [
    "optimize(num_iterations=9000)"
   ]
  },
  {
   "cell_type": "code",
   "execution_count": 49,
   "metadata": {},
   "outputs": [
    {
     "name": "stdout",
     "output_type": "stream",
     "text": [
      "Accuracy on Test-Set: 98.9% (9890 / 10000)\n",
      "Example errors:\n"
     ]
    },
    {
     "data": {
      "image/png": "[encoded data removed]",
      "text/plain": [
       "<matplotlib.figure.Figure at 0x1675f8c00b8>"
      ]
     },
     "metadata": {},
     "output_type": "display_data"
    },
    {
     "name": "stdout",
     "output_type": "stream",
     "text": [
      "Confusion Matrix:\n",
      "[[ 976    0    0    0    0    0    1    1    2    0]\n",
      " [   0 1131    1    0    0    0    1    0    2    0]\n",
      " [   4    2 1014    2    1    0    0    3    6    0]\n",
      " [   1    0    0 1004    0    2    0    0    2    1]\n",
      " [   0    0    1    0  972    0    1    1    0    7]\n",
      " [   2    0    0    4    0  884    1    0    0    1]\n",
      " [   5    2    0    0    3    2  945    0    1    0]\n",
      " [   0    1    6    2    0    0    0 1016    1    2]\n",
      " [   4    0    1    3    1    2    0    2  958    3]\n",
      " [   5    4    1    3    3    1    0    1    1  990]]\n"
     ]
    },
    {
     "data": {
      "image/png": "[encoded data removed]",
      "text/plain": [
       "<matplotlib.figure.Figure at 0x16761adfc88>"
      ]
     },
     "metadata": {},
     "output_type": "display_data"
    }
   ],
   "source": [
    "print_test_accuracy(show_example_errors=True,\n",
    "                   show_confusion_matrix=True)"
   ]
  },
  {
   "cell_type": "markdown",
   "metadata": {},
   "source": [
    "## Visualization of Weights and Layers\n",
    "\n",
    "### Helper-function for plotting convolutional weights"
   ]
  },
  {
   "cell_type": "code",
   "execution_count": 50,
   "metadata": {},
   "outputs": [],
   "source": [
    "def plot_conv_weights(weights,input_channel=0):\n",
    "    w=sess.run(weights)\n",
    "    \n",
    "    min=np.min(w)\n",
    "    max=np.max(w)\n",
    "    \n",
    "    num_filters=w.shape[3]\n",
    "    \n",
    "    num_grids=math.ceil(math.sqrt(num_filters))\n",
    "    \n",
    "    fig, axes= plt.subplots(num_grids,num_grids)\n",
    "    \n",
    "    for i, ax in enumerate(axes.flat):\n",
    "        if i<num_filters:\n",
    "            img=w[:,:,input_channel, i]\n",
    "            \n",
    "            ax.imshow(img,vmin=min, vmax=max, interpolation='nearest', cmap='seismic')\n",
    "            \n",
    "        ax.set_xticks([])\n",
    "        ax.set_yticks([])\n",
    "        \n",
    "    plt.show()        "
   ]
  },
  {
   "cell_type": "markdown",
   "metadata": {},
   "source": [
    "### Helper function for plotting output of a convolution layer"
   ]
  },
  {
   "cell_type": "code",
   "execution_count": 51,
   "metadata": {},
   "outputs": [],
   "source": [
    "def plot_conv_layer(layer,image):\n",
    "    feed_dict={x:[image]}\n",
    "    \n",
    "    values=sess.run(layer,feed_dict=feed_dict)\n",
    "    \n",
    "    num_filters=values.shape[3]\n",
    "    \n",
    "    num_grids=math.ceil(math.sqrt(num_filters))\n",
    "    \n",
    "    fig,axes=plt.subplots(num_grids,num_grids)\n",
    "    \n",
    "    for i, ax in enumerate(axes.flat):\n",
    "        if i<num_filters:\n",
    "            \n",
    "            img=values[0,:,:,i]\n",
    "            \n",
    "            ax.imshow(img, interpolation='nearest', cmap='binary')\n",
    "            \n",
    "        ax.set_xticks([])\n",
    "        ax.set_yticks([])\n",
    "        \n",
    "    plt.show()"
   ]
  },
  {
   "cell_type": "markdown",
   "metadata": {},
   "source": [
    "### Input images"
   ]
  },
  {
   "cell_type": "code",
   "execution_count": 52,
   "metadata": {},
   "outputs": [],
   "source": [
    "def plot_image(image):\n",
    "    plt.imshow(image.reshape(img_shape), interpolation='nearest', cmap='binary')\n",
    "    \n",
    "    plt.show()"
   ]
  },
  {
   "cell_type": "code",
   "execution_count": 53,
   "metadata": {},
   "outputs": [
    {
     "data": {
      "image/png": "[encoded data removed]",
      "text/plain": [
       "<matplotlib.figure.Figure at 0x1676d671320>"
      ]
     },
     "metadata": {},
     "output_type": "display_data"
    }
   ],
   "source": [
    "image1=data.test.images[0]\n",
    "plot_image(image1)"
   ]
  },
  {
   "cell_type": "code",
   "execution_count": 54,
   "metadata": {},
   "outputs": [
    {
     "data": {
      "image/png": "[encoded data removed]",
      "text/plain": [
       "<matplotlib.figure.Figure at 0x1676d6f0518>"
      ]
     },
     "metadata": {},
     "output_type": "display_data"
    }
   ],
   "source": [
    "image2=data.test.images[13]\n",
    "plot_image(image2)"
   ]
  },
  {
   "cell_type": "markdown",
   "metadata": {},
   "source": [
    "### Convolution layer 1 visualizations\n",
    "\n",
    "Weights"
   ]
  },
  {
   "cell_type": "code",
   "execution_count": 55,
   "metadata": {},
   "outputs": [
    {
     "data": {
      "image/png": "[encoded data removed]",
      "text/plain": [
       "<matplotlib.figure.Figure at 0x1676d671da0>"
      ]
     },
     "metadata": {},
     "output_type": "display_data"
    }
   ],
   "source": [
    "plot_conv_weights(weights=weights_conv1)"
   ]
  },
  {
   "cell_type": "markdown",
   "metadata": {},
   "source": [
    "Conv layer"
   ]
  },
  {
   "cell_type": "code",
   "execution_count": 56,
   "metadata": {},
   "outputs": [
    {
     "data": {
      "image/png": "[encoded data removed]",
      "text/plain": [
       "<matplotlib.figure.Figure at 0x1676eee41d0>"
      ]
     },
     "metadata": {},
     "output_type": "display_data"
    }
   ],
   "source": [
    "plot_conv_layer(layer=layer_conv1,image=image1)"
   ]
  },
  {
   "cell_type": "code",
   "execution_count": 57,
   "metadata": {},
   "outputs": [
    {
     "data": {
      "image/png": "[encoded data removed]",
      "text/plain": [
       "<matplotlib.figure.Figure at 0x1676d65a208>"
      ]
     },
     "metadata": {},
     "output_type": "display_data"
    }
   ],
   "source": [
    "plot_conv_layer(layer=layer_conv1,image=image2)"
   ]
  },
  {
   "cell_type": "markdown",
   "metadata": {},
   "source": [
    "### Convoluton layer 2 visualizations\n",
    "\n",
    "Weights"
   ]
  },
  {
   "cell_type": "code",
   "execution_count": 58,
   "metadata": {},
   "outputs": [
    {
     "data": {
      "image/png": "[encoded data removed]",
      "text/plain": [
       "<matplotlib.figure.Figure at 0x16763eb4e48>"
      ]
     },
     "metadata": {},
     "output_type": "display_data"
    }
   ],
   "source": [
    "plot_conv_weights(weights=weights_conv2, input_channel=0)"
   ]
  },
  {
   "cell_type": "code",
   "execution_count": 59,
   "metadata": {},
   "outputs": [
    {
     "data": {
      "image/png": "[encoded data removed]",
      "text/plain": [
       "<matplotlib.figure.Figure at 0x1676d6d5b38>"
      ]
     },
     "metadata": {},
     "output_type": "display_data"
    }
   ],
   "source": [
    "plot_conv_weights(weights=weights_conv2,input_channel=1)"
   ]
  },
  {
   "cell_type": "markdown",
   "metadata": {},
   "source": [
    "Conv layer"
   ]
  },
  {
   "cell_type": "code",
   "execution_count": 60,
   "metadata": {},
   "outputs": [
    {
     "data": {
      "image/png": "[encoded data removed]",
      "text/plain": [
       "<matplotlib.figure.Figure at 0x1676eee40f0>"
      ]
     },
     "metadata": {},
     "output_type": "display_data"
    }
   ],
   "source": [
    "plot_conv_layer(layer=layer_conv2, image=image1)"
   ]
  },
  {
   "cell_type": "code",
   "execution_count": 61,
   "metadata": {},
   "outputs": [
    {
     "data": {
      "image/png": "[encoded data removed]",
      "text/plain": [
       "<matplotlib.figure.Figure at 0x1676192feb8>"
      ]
     },
     "metadata": {},
     "output_type": "display_data"
    }
   ],
   "source": [
    "plot_conv_layer(layer=layer_conv2, image=image2)"
   ]
  },
  {
   "cell_type": "markdown",
   "metadata": {},
   "source": [
    "## Close tensorflow Session"
   ]
  },
  {
   "cell_type": "code",
   "execution_count": 62,
   "metadata": {},
   "outputs": [],
   "source": [
    "sess.close()"
   ]
  }
 ],
 "metadata": {
  "kernelspec": {
   "display_name": "Python 3",
   "language": "python",
   "name": "python3"
  },
  "language_info": {
   "codemirror_mode": {
    "name": "ipython",
    "version": 3
   },
   "file_extension": ".py",
   "mimetype": "text/x-python",
   "name": "python",
   "nbconvert_exporter": "python",
   "pygments_lexer": "ipython3",
   "version": "3.6.3"
  }
 },
 "nbformat": 4,
 "nbformat_minor": 2
}
