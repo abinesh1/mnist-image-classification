{
 "cells": [
  {
   "cell_type": "code",
   "execution_count": 1,
   "metadata": {},
   "outputs": [],
   "source": [
    "import numpy as np\n",
    "import matplotlib.pyplot as plt\n",
    "import datetime\n",
    "from sklearn.metrics import confusion_matrix\n",
    "%matplotlib inline\n",
    "from datetime import timedelta\n",
    "import math\n",
    "import tensorflow as tf\n",
    "import time"
   ]
  },
  {
   "cell_type": "code",
   "execution_count": 2,
   "metadata": {},
   "outputs": [
    {
     "data": {
      "text/plain": [
       "'1.4.0'"
      ]
     },
     "execution_count": 2,
     "metadata": {},
     "output_type": "execute_result"
    }
   ],
   "source": [
    "tf.__version__"
   ]
  },
  {
   "cell_type": "markdown",
   "metadata": {},
   "source": [
    "## Setting Hyperparameters"
   ]
  },
  {
   "cell_type": "code",
   "execution_count": 3,
   "metadata": {},
   "outputs": [],
   "source": [
    "filter_size1= 5\n",
    "num_filters1= 16\n",
    "\n",
    "filter_size2= 5\n",
    "num_filters2=36\n",
    "\n",
    "fc_size=128"
   ]
  },
  {
   "cell_type": "code",
   "execution_count": 4,
   "metadata": {},
   "outputs": [
    {
     "name": "stdout",
     "output_type": "stream",
     "text": [
      "Extracting data/MNIST/train-images-idx3-ubyte.gz\n",
      "Extracting data/MNIST/train-labels-idx1-ubyte.gz\n",
      "Extracting data/MNIST/t10k-images-idx3-ubyte.gz\n",
      "Extracting data/MNIST/t10k-labels-idx1-ubyte.gz\n"
     ]
    }
   ],
   "source": [
    "from tensorflow.examples.tutorials.mnist import input_data\n",
    "data=input_data.read_data_sets(\"data/MNIST/\", one_hot=True)"
   ]
  },
  {
   "cell_type": "code",
   "execution_count": 5,
   "metadata": {},
   "outputs": [
    {
     "name": "stdout",
     "output_type": "stream",
     "text": [
      "Size of\n",
      "--train labels     :  55000\n",
      "--validation labels:  5000\n",
      "--test labels      :  10000\n"
     ]
    }
   ],
   "source": [
    "print(\"Size of\")\n",
    "print(\"--train labels     : \",len(data.train.labels))\n",
    "print(\"--validation labels: \",len(data.validation.labels))\n",
    "print(\"--test labels      : \",len(data.test.labels))"
   ]
  },
  {
   "cell_type": "code",
   "execution_count": 6,
   "metadata": {},
   "outputs": [],
   "source": [
    "data.test.cls=np.argmax(data.test.labels, axis=1)"
   ]
  },
  {
   "cell_type": "markdown",
   "metadata": {},
   "source": [
    "## Data dimensions"
   ]
  },
  {
   "cell_type": "code",
   "execution_count": 7,
   "metadata": {},
   "outputs": [],
   "source": [
    "img_size=28\n",
    "img_size_flat=img_size*img_size\n",
    "img_shape=(img_size,img_size)\n",
    "num_channels=1\n",
    "num_classes=10"
   ]
  },
  {
   "cell_type": "code",
   "execution_count": 8,
   "metadata": {},
   "outputs": [],
   "source": [
    "def plot_images(images, cls_true, cls_pred=None):\n",
    "    assert len(images)== len(cls_true)==9\n",
    "    \n",
    "    fig, axes=plt.subplots(3,3)\n",
    "    fig.subplots_adjust(hspace=0.3, wspace=0.3)\n",
    "    \n",
    "    for i,ax in enumerate(axes.flat):\n",
    "        ax.imshow(images[i].reshape(img_shape),cmap='binary')\n",
    "        \n",
    "        if cls_pred is None:\n",
    "            xlabel=\"True: {}\".format(cls_true[i])\n",
    "        else:\n",
    "            xlabel= \"True: {} Predict: {}\".format(cls_true[i],cls_pred[i])\n",
    "        ax.set_xlabel(xlabel)\n",
    "        \n",
    "        ax.set_xticks([])\n",
    "        ax.set_yticks([])\n",
    "        \n",
    "    plt.show()\n",
    "    "
   ]
  },
  {
   "cell_type": "code",
   "execution_count": 9,
   "metadata": {},
   "outputs": [
    {
     "data": {
      "image/png": "[encoded data removed]",
      "text/plain": [
       "<matplotlib.figure.Figure at 0x174ff3ca320>"
      ]
     },
     "metadata": {},
     "output_type": "display_data"
    }
   ],
   "source": [
    "images=data.test.images[0:9]\n",
    "\n",
    "cls_true=data.test.cls[0:9]\n",
    "\n",
    "plot_images(images=images,cls_true=cls_true)"
   ]
  },
  {
   "cell_type": "code",
   "execution_count": 10,
   "metadata": {},
   "outputs": [],
   "source": [
    "def new_weights(shape):\n",
    "    return tf.Variable(tf.truncated_normal(shape,stddev=0.05))"
   ]
  },
  {
   "cell_type": "code",
   "execution_count": 11,
   "metadata": {},
   "outputs": [],
   "source": [
    "def new_biases(length):\n",
    "    return tf.Variable(tf.constant(0.05,shape=[length]))"
   ]
  },
  {
   "cell_type": "code",
   "execution_count": 12,
   "metadata": {},
   "outputs": [],
   "source": [
    "def new_conv_layer(input, num_input_channels, filter_size, num_filters, use_pooling=True):\n",
    "    shape=[filter_size,filter_size,num_input_channels, num_filters]\n",
    "    \n",
    "    weights=new_weights(shape)\n",
    "    \n",
    "    bias=new_biases(length=num_filters)\n",
    "    \n",
    "    layer=tf.nn.conv2d(input=input, filter=weights,strides=[1,1,1,1], padding=\"SAME\")\n",
    "    \n",
    "    layer=tf.nn.bias_add(layer,bias)\n",
    "    \n",
    "    if use_pooling:\n",
    "        layer=tf.nn.max_pool(value=layer, ksize=[1,2,2,1], strides=[1,2,2,1], padding=\"SAME\")\n",
    "        \n",
    "    layer=tf.nn.relu(layer)\n",
    "    \n",
    "    \n",
    "    return layer,weights "
   ]
  },
  {
   "cell_type": "code",
   "execution_count": 13,
   "metadata": {},
   "outputs": [],
   "source": [
    "def flatten_layer(layer):\n",
    "    layer_shape=layer.get_shape()\n",
    "    \n",
    "    num_features=layer_shape[1:4].num_elements()\n",
    "    \n",
    "    layer_flat=tf.reshape(layer,[-1,num_features])\n",
    "    \n",
    "    return layer_flat,num_features"
   ]
  },
  {
   "cell_type": "code",
   "execution_count": 14,
   "metadata": {},
   "outputs": [],
   "source": [
    "def new_fc_layer(input, num_inputs, num_outputs, use_relu=True):\n",
    "    \n",
    "    weights=new_weights(shape=[num_inputs,num_outputs])\n",
    "    \n",
    "    bias=new_biases(num_outputs)\n",
    "    \n",
    "    layer=tf.add(tf.matmul(input, weights),bias)\n",
    "    \n",
    "    if use_relu:\n",
    "        layer=tf.nn.relu(layer)\n",
    "    \n",
    "    return layer"
   ]
  },
  {
   "cell_type": "markdown",
   "metadata": {},
   "source": [
    "## Placeholder "
   ]
  },
  {
   "cell_type": "code",
   "execution_count": 15,
   "metadata": {},
   "outputs": [],
   "source": [
    "x=tf.placeholder(tf.float32, shape=[None, img_size_flat],name= 'x')\n",
    "x_image=tf.reshape(x,[-1,img_size,img_size,num_channels])"
   ]
  },
  {
   "cell_type": "code",
   "execution_count": 16,
   "metadata": {},
   "outputs": [
    {
     "name": "stdout",
     "output_type": "stream",
     "text": [
      "WARNING:tensorflow:From <ipython-input-16-c68331962b49>:2: calling argmax (from tensorflow.python.ops.math_ops) with dimension is deprecated and will be removed in a future version.\n",
      "Instructions for updating:\n",
      "Use the `axis` argument instead\n"
     ]
    }
   ],
   "source": [
    "y_true=tf.placeholder(tf.float32, shape=[None,10], name='y_true')\n",
    "y_true_cls=tf.argmax(y_true,dimension=1)"
   ]
  },
  {
   "cell_type": "markdown",
   "metadata": {},
   "source": [
    "## Conv 1"
   ]
  },
  {
   "cell_type": "code",
   "execution_count": 17,
   "metadata": {},
   "outputs": [],
   "source": [
    "layer_conv1,weights_conv1=new_conv_layer(input=x_image, num_input_channels=num_channels,\n",
    "                                        filter_size=filter_size1, num_filters=num_filters1,\n",
    "                                         use_pooling=True)"
   ]
  },
  {
   "cell_type": "code",
   "execution_count": 18,
   "metadata": {},
   "outputs": [
    {
     "data": {
      "text/plain": [
       "<tf.Tensor 'Relu:0' shape=(?, 14, 14, 16) dtype=float32>"
      ]
     },
     "execution_count": 18,
     "metadata": {},
     "output_type": "execute_result"
    }
   ],
   "source": [
    "layer_conv1"
   ]
  },
  {
   "cell_type": "markdown",
   "metadata": {},
   "source": [
    "## Conv 2"
   ]
  },
  {
   "cell_type": "code",
   "execution_count": 19,
   "metadata": {},
   "outputs": [],
   "source": [
    "layer_conv2,weights_conv2=new_conv_layer(input=layer_conv1,num_input_channels=num_filters1,\n",
    "                                        filter_size=filter_size2, num_filters=num_filters2,\n",
    "                                        use_pooling=True)"
   ]
  },
  {
   "cell_type": "code",
   "execution_count": 20,
   "metadata": {},
   "outputs": [
    {
     "data": {
      "text/plain": [
       "<tf.Tensor 'Relu_1:0' shape=(?, 7, 7, 36) dtype=float32>"
      ]
     },
     "execution_count": 20,
     "metadata": {},
     "output_type": "execute_result"
    }
   ],
   "source": [
    "layer_conv2"
   ]
  },
  {
   "cell_type": "markdown",
   "metadata": {},
   "source": [
    "## Flatten"
   ]
  },
  {
   "cell_type": "code",
   "execution_count": 21,
   "metadata": {},
   "outputs": [],
   "source": [
    "layer_flat,num_features=flatten_layer(layer_conv2)"
   ]
  },
  {
   "cell_type": "code",
   "execution_count": 22,
   "metadata": {},
   "outputs": [
    {
     "data": {
      "text/plain": [
       "<tf.Tensor 'Reshape_1:0' shape=(?, 1764) dtype=float32>"
      ]
     },
     "execution_count": 22,
     "metadata": {},
     "output_type": "execute_result"
    }
   ],
   "source": [
    "layer_flat"
   ]
  },
  {
   "cell_type": "code",
   "execution_count": 23,
   "metadata": {},
   "outputs": [
    {
     "data": {
      "text/plain": [
       "1764"
      ]
     },
     "execution_count": 23,
     "metadata": {},
     "output_type": "execute_result"
    }
   ],
   "source": [
    "num_features"
   ]
  },
  {
   "cell_type": "markdown",
   "metadata": {},
   "source": [
    "## Fully conn 1"
   ]
  },
  {
   "cell_type": "code",
   "execution_count": 24,
   "metadata": {},
   "outputs": [],
   "source": [
    "layer_fc1=new_fc_layer(input=layer_flat, num_inputs=num_features, num_outputs=fc_size,\n",
    "                       use_relu=True)"
   ]
  },
  {
   "cell_type": "code",
   "execution_count": 25,
   "metadata": {},
   "outputs": [
    {
     "data": {
      "text/plain": [
       "<tf.Tensor 'Relu_2:0' shape=(?, 128) dtype=float32>"
      ]
     },
     "execution_count": 25,
     "metadata": {},
     "output_type": "execute_result"
    }
   ],
   "source": [
    "layer_fc1"
   ]
  },
  {
   "cell_type": "markdown",
   "metadata": {},
   "source": [
    "## Fully conn 2"
   ]
  },
  {
   "cell_type": "code",
   "execution_count": 26,
   "metadata": {},
   "outputs": [],
   "source": [
    "layer_fc2=new_fc_layer(input=layer_fc1, num_inputs=fc_size, num_outputs=num_classes,\n",
    "                      use_relu=False)"
   ]
  },
  {
   "cell_type": "code",
   "execution_count": 27,
   "metadata": {},
   "outputs": [
    {
     "data": {
      "text/plain": [
       "<tf.Tensor 'Add_1:0' shape=(?, 10) dtype=float32>"
      ]
     },
     "execution_count": 27,
     "metadata": {},
     "output_type": "execute_result"
    }
   ],
   "source": [
    "layer_fc2"
   ]
  },
  {
   "cell_type": "markdown",
   "metadata": {},
   "source": [
    "## Predicted Class"
   ]
  },
  {
   "cell_type": "code",
   "execution_count": 28,
   "metadata": {},
   "outputs": [],
   "source": [
    "y_pred=tf.nn.softmax(layer_fc2)\n",
    "\n",
    "y_pred_cls=tf.argmax(y_pred,axis=1)"
   ]
  },
  {
   "cell_type": "markdown",
   "metadata": {},
   "source": [
    "## Optimization Method"
   ]
  },
  {
   "cell_type": "code",
   "execution_count": 29,
   "metadata": {},
   "outputs": [],
   "source": [
    "cross_entropy=tf.nn.softmax_cross_entropy_with_logits(logits=layer_fc2,labels=y_true)"
   ]
  },
  {
   "cell_type": "code",
   "execution_count": 30,
   "metadata": {},
   "outputs": [],
   "source": [
    "cost=tf.reduce_mean(cross_entropy)"
   ]
  },
  {
   "cell_type": "code",
   "execution_count": 31,
   "metadata": {},
   "outputs": [],
   "source": [
    "optimizer=tf.train.AdamOptimizer(learning_rate=1e-4).minimize(cost)"
   ]
  },
  {
   "cell_type": "code",
   "execution_count": 32,
   "metadata": {},
   "outputs": [],
   "source": [
    "correct_prediction=tf.equal(y_pred_cls,y_true_cls)"
   ]
  },
  {
   "cell_type": "code",
   "execution_count": 33,
   "metadata": {},
   "outputs": [],
   "source": [
    "accuracy=tf.reduce_mean(tf.cast(correct_prediction,tf.float32))"
   ]
  },
  {
   "cell_type": "markdown",
   "metadata": {},
   "source": [
    "# Tensorflow run"
   ]
  },
  {
   "cell_type": "code",
   "execution_count": 34,
   "metadata": {},
   "outputs": [],
   "source": [
    "sess=tf.Session()"
   ]
  },
  {
   "cell_type": "code",
   "execution_count": 35,
   "metadata": {},
   "outputs": [],
   "source": [
    "sess.run(tf.global_variables_initializer())"
   ]
  },
  {
   "cell_type": "code",
   "execution_count": 36,
   "metadata": {},
   "outputs": [],
   "source": [
    "train_batch_size=64"
   ]
  },
  {
   "cell_type": "code",
   "execution_count": 37,
   "metadata": {},
   "outputs": [],
   "source": [
    "total_iterations=0\n",
    "\n",
    "def optimize(num_iterations):\n",
    "    global total_iterations\n",
    "    \n",
    "    start_time=time.time()\n",
    "    for i in range(total_iterations,total_iterations+num_iterations):\n",
    "        x_batch,y_true_batch=data.train.next_batch(train_batch_size)\n",
    "        \n",
    "        feed_dict_train={x:x_batch,y_true :y_true_batch}\n",
    "        \n",
    "        sess.run(optimizer,feed_dict=feed_dict_train)\n",
    "        \n",
    "        if i%100==0:\n",
    "            acc=sess.run(accuracy, feed_dict=feed_dict_train)\n",
    "            \n",
    "            print(\"Optimization Iteration:{0:>5}  , Accuracy: {1:>6.1%}\".format((i+1),acc))\n",
    "        \n",
    "    end_time=time.time()\n",
    "        \n",
    "    total_time=end_time-start_time\n",
    "        \n",
    "    print(\"Time Used: \"+str(timedelta(seconds=int(round(total_time)))))"
   ]
  },
  {
   "cell_type": "code",
   "execution_count": 38,
   "metadata": {},
   "outputs": [],
   "source": [
    "def plot_example_errors(cls_pred, correct):\n",
    "    incorrect=(correct==False)\n",
    "    \n",
    "    images=data.test.images[incorrect]\n",
    "    \n",
    "    cls_pred=cls_pred[incorrect]\n",
    "    \n",
    "    cls_true=data.test.cls[incorrect]\n",
    "    \n",
    "    plot_images(images=images[0:9],cls_true=cls_true[0:9],\n",
    "               cls_pred=cls_pred[0:9])\n",
    "    \n",
    "    "
   ]
  },
  {
   "cell_type": "code",
   "execution_count": 39,
   "metadata": {},
   "outputs": [],
   "source": [
    "def plot_confusion_matrix(cls_pred):\n",
    "    \n",
    "    cls_true=data.test.cls\n",
    "    \n",
    "    cm=confusion_matrix(y_true=cls_true,y_pred=cls_pred)\n",
    "    \n",
    "    print(cm)\n",
    "    \n",
    "    plt.matshow(cm)\n",
    "    \n",
    "    plt.colorbar()\n",
    "    tick_marks=np.arange(num_classes)\n",
    "    plt.xticks(tick_marks,range(num_classes))\n",
    "    plt.yticks(tick_marks,range(num_classes))\n",
    "    plt.xlabel(\"predicted\")\n",
    "    plt.ylabel(\"true\")\n",
    "    plt.show()\n",
    "    "
   ]
  },
  {
   "cell_type": "code",
   "execution_count": 40,
   "metadata": {},
   "outputs": [],
   "source": [
    "test_batch_size = 128\n",
    "\n",
    "def print_test_accuracy(show_example_errors=False,\n",
    "                        show_confusion_matrix=False):\n",
    "\n",
    "    num_test = len(data.test.images)\n",
    "\n",
    "    cls_pred = np.zeros(shape=num_test, dtype=np.int)\n",
    "\n",
    "    i = 0\n",
    "\n",
    "    while i < num_test:\n",
    "        j = min(i + test_batch_size, num_test)\n",
    "\n",
    "        images = data.test.images[i:j, :]\n",
    "\n",
    "        labels = data.test.labels[i:j, :]\n",
    "\n",
    "        feed_dict = {x: images,\n",
    "                     y_true: labels}\n",
    "\n",
    "        cls_pred[i:j] = sess.run(y_pred_cls, feed_dict=feed_dict)\n",
    "\n",
    "        i = j\n",
    "\n",
    "    cls_true = data.test.cls\n",
    "\n",
    "    correct = (cls_true == cls_pred)\n",
    "\n",
    "    correct_sum = correct.sum()\n",
    "\n",
    "    acc = float(correct_sum) / num_test\n",
    "\n",
    "    msg = \"Accuracy on Test-Set: {0:.1%} ({1} / {2})\"\n",
    "    print(msg.format(acc, correct_sum, num_test))\n",
    "\n",
    "    if show_example_errors:\n",
    "        print(\"Example errors:\")\n",
    "        plot_example_errors(cls_pred=cls_pred, correct=correct)\n",
    "\n",
    "    if show_confusion_matrix:\n",
    "        print(\"Confusion Matrix:\")\n",
    "        plot_confusion_matrix(cls_pred=cls_pred)"
   ]
  },
  {
   "cell_type": "code",
   "execution_count": 41,
   "metadata": {},
   "outputs": [
    {
     "name": "stdout",
     "output_type": "stream",
     "text": [
      "Accuracy on Test-Set: 8.8% (885 / 10000)\n"
     ]
    }
   ],
   "source": [
    "print_test_accuracy()"
   ]
  },
  {
   "cell_type": "code",
   "execution_count": 42,
   "metadata": {},
   "outputs": [
    {
     "name": "stdout",
     "output_type": "stream",
     "text": [
      "Optimization Iteration:    1  , Accuracy:  14.1%\n",
      "Time Used: 0:00:00\n",
      "Accuracy on Test-Set: 9.2% (923 / 10000)\n"
     ]
    }
   ],
   "source": [
    "optimize(num_iterations=1)\n",
    "print_test_accuracy()"
   ]
  },
  {
   "cell_type": "code",
   "execution_count": 43,
   "metadata": {},
   "outputs": [
    {
     "name": "stdout",
     "output_type": "stream",
     "text": [
      "Optimization Iteration:    1  , Accuracy:  10.9%\n",
      "Time Used: 0:00:02\n"
     ]
    }
   ],
   "source": [
    "optimize(num_iterations=99)\n"
   ]
  },
  {
   "cell_type": "code",
   "execution_count": 44,
   "metadata": {},
   "outputs": [
    {
     "name": "stdout",
     "output_type": "stream",
     "text": [
      "Accuracy on Test-Set: 75.4% (7542 / 10000)\n",
      "Example errors:\n"
     ]
    },
    {
     "data": {
      "image/png": "[encoded data removed]",
      "text/plain": [
       "<matplotlib.figure.Figure at 0x174826882e8>"
      ]
     },
     "metadata": {},
     "output_type": "display_data"
    }
   ],
   "source": [
    "print_test_accuracy(show_example_errors=True)"
   ]
  },
  {
   "cell_type": "code",
   "execution_count": 45,
   "metadata": {},
   "outputs": [
    {
     "name": "stdout",
     "output_type": "stream",
     "text": [
      "Optimization Iteration:    1  , Accuracy:  71.9%\n",
      "Optimization Iteration:  101  , Accuracy:  81.2%\n",
      "Optimization Iteration:  201  , Accuracy:  89.1%\n",
      "Optimization Iteration:  301  , Accuracy:  89.1%\n",
      "Optimization Iteration:  401  , Accuracy:  85.9%\n",
      "Optimization Iteration:  501  , Accuracy:  93.8%\n",
      "Optimization Iteration:  601  , Accuracy:  89.1%\n",
      "Optimization Iteration:  701  , Accuracy:  96.9%\n",
      "Optimization Iteration:  801  , Accuracy:  96.9%\n",
      "Time Used: 0:00:16\n"
     ]
    }
   ],
   "source": [
    "optimize(num_iterations=900)"
   ]
  },
  {
   "cell_type": "code",
   "execution_count": 46,
   "metadata": {},
   "outputs": [
    {
     "name": "stdout",
     "output_type": "stream",
     "text": [
      "Accuracy on Test-Set: 93.9% (9388 / 10000)\n",
      "Example errors:\n"
     ]
    },
    {
     "data": {
      "image/png": "[encoded data removed]",
      "text/plain": [
       "<matplotlib.figure.Figure at 0x17482688940>"
      ]
     },
     "metadata": {},
     "output_type": "display_data"
    }
   ],
   "source": [
    "print_test_accuracy(show_example_errors=True)"
   ]
  },
  {
   "cell_type": "code",
   "execution_count": 47,
   "metadata": {},
   "outputs": [
    {
     "name": "stdout",
     "output_type": "stream",
     "text": [
      "Optimization Iteration:    1  , Accuracy:  96.9%\n",
      "Optimization Iteration:  101  , Accuracy:  95.3%\n",
      "Optimization Iteration:  201  , Accuracy:  95.3%\n",
      "Optimization Iteration:  301  , Accuracy:  92.2%\n",
      "Optimization Iteration:  401  , Accuracy:  98.4%\n",
      "Optimization Iteration:  501  , Accuracy:  98.4%\n",
      "Optimization Iteration:  601  , Accuracy:  95.3%\n",
      "Optimization Iteration:  701  , Accuracy:  95.3%\n",
      "Optimization Iteration:  801  , Accuracy:  92.2%\n",
      "Optimization Iteration:  901  , Accuracy:  95.3%\n",
      "Optimization Iteration: 1001  , Accuracy:  96.9%\n",
      "Optimization Iteration: 1101  , Accuracy:  95.3%\n",
      "Optimization Iteration: 1201  , Accuracy:  96.9%\n",
      "Optimization Iteration: 1301  , Accuracy:  93.8%\n",
      "Optimization Iteration: 1401  , Accuracy:  95.3%\n",
      "Optimization Iteration: 1501  , Accuracy:  98.4%\n",
      "Optimization Iteration: 1601  , Accuracy:  96.9%\n",
      "Optimization Iteration: 1701  , Accuracy:  93.8%\n",
      "Optimization Iteration: 1801  , Accuracy:  96.9%\n",
      "Optimization Iteration: 1901  , Accuracy:  95.3%\n",
      "Optimization Iteration: 2001  , Accuracy:  98.4%\n",
      "Optimization Iteration: 2101  , Accuracy: 100.0%\n",
      "Optimization Iteration: 2201  , Accuracy:  96.9%\n",
      "Optimization Iteration: 2301  , Accuracy:  98.4%\n",
      "Optimization Iteration: 2401  , Accuracy:  96.9%\n",
      "Optimization Iteration: 2501  , Accuracy:  96.9%\n",
      "Optimization Iteration: 2601  , Accuracy:  95.3%\n",
      "Optimization Iteration: 2701  , Accuracy:  96.9%\n",
      "Optimization Iteration: 2801  , Accuracy:  96.9%\n",
      "Optimization Iteration: 2901  , Accuracy:  95.3%\n",
      "Optimization Iteration: 3001  , Accuracy:  95.3%\n",
      "Optimization Iteration: 3101  , Accuracy: 100.0%\n",
      "Optimization Iteration: 3201  , Accuracy:  98.4%\n",
      "Optimization Iteration: 3301  , Accuracy:  96.9%\n",
      "Optimization Iteration: 3401  , Accuracy:  98.4%\n",
      "Optimization Iteration: 3501  , Accuracy:  95.3%\n",
      "Optimization Iteration: 3601  , Accuracy:  98.4%\n",
      "Optimization Iteration: 3701  , Accuracy:  96.9%\n",
      "Optimization Iteration: 3801  , Accuracy:  98.4%\n",
      "Optimization Iteration: 3901  , Accuracy: 100.0%\n",
      "Optimization Iteration: 4001  , Accuracy:  98.4%\n",
      "Optimization Iteration: 4101  , Accuracy: 100.0%\n",
      "Optimization Iteration: 4201  , Accuracy: 100.0%\n",
      "Optimization Iteration: 4301  , Accuracy:  98.4%\n",
      "Optimization Iteration: 4401  , Accuracy:  98.4%\n",
      "Optimization Iteration: 4501  , Accuracy:  96.9%\n",
      "Optimization Iteration: 4601  , Accuracy:  96.9%\n",
      "Optimization Iteration: 4701  , Accuracy:  98.4%\n",
      "Optimization Iteration: 4801  , Accuracy:  96.9%\n",
      "Optimization Iteration: 4901  , Accuracy: 100.0%\n",
      "Optimization Iteration: 5001  , Accuracy:  95.3%\n",
      "Optimization Iteration: 5101  , Accuracy:  98.4%\n",
      "Optimization Iteration: 5201  , Accuracy:  98.4%\n",
      "Optimization Iteration: 5301  , Accuracy:  98.4%\n",
      "Optimization Iteration: 5401  , Accuracy: 100.0%\n",
      "Optimization Iteration: 5501  , Accuracy:  98.4%\n",
      "Optimization Iteration: 5601  , Accuracy:  98.4%\n",
      "Optimization Iteration: 5701  , Accuracy: 100.0%\n",
      "Optimization Iteration: 5801  , Accuracy:  95.3%\n",
      "Optimization Iteration: 5901  , Accuracy: 100.0%\n",
      "Optimization Iteration: 6001  , Accuracy: 100.0%\n",
      "Optimization Iteration: 6101  , Accuracy: 100.0%\n",
      "Optimization Iteration: 6201  , Accuracy: 100.0%\n",
      "Optimization Iteration: 6301  , Accuracy: 100.0%\n",
      "Optimization Iteration: 6401  , Accuracy:  93.8%\n",
      "Optimization Iteration: 6501  , Accuracy:  98.4%\n",
      "Optimization Iteration: 6601  , Accuracy:  98.4%\n",
      "Optimization Iteration: 6701  , Accuracy:  92.2%\n",
      "Optimization Iteration: 6801  , Accuracy: 100.0%\n",
      "Optimization Iteration: 6901  , Accuracy: 100.0%\n",
      "Optimization Iteration: 7001  , Accuracy: 100.0%\n",
      "Optimization Iteration: 7101  , Accuracy: 100.0%\n",
      "Optimization Iteration: 7201  , Accuracy:  96.9%\n",
      "Optimization Iteration: 7301  , Accuracy: 100.0%\n",
      "Optimization Iteration: 7401  , Accuracy:  98.4%\n",
      "Optimization Iteration: 7501  , Accuracy: 100.0%\n",
      "Optimization Iteration: 7601  , Accuracy: 100.0%\n",
      "Optimization Iteration: 7701  , Accuracy:  98.4%\n",
      "Optimization Iteration: 7801  , Accuracy: 100.0%\n",
      "Optimization Iteration: 7901  , Accuracy: 100.0%\n",
      "Optimization Iteration: 8001  , Accuracy: 100.0%\n",
      "Optimization Iteration: 8101  , Accuracy:  98.4%\n",
      "Optimization Iteration: 8201  , Accuracy:  98.4%\n",
      "Optimization Iteration: 8301  , Accuracy: 100.0%\n",
      "Optimization Iteration: 8401  , Accuracy:  98.4%\n",
      "Optimization Iteration: 8501  , Accuracy:  95.3%\n",
      "Optimization Iteration: 8601  , Accuracy:  98.4%\n",
      "Optimization Iteration: 8701  , Accuracy:  95.3%\n",
      "Optimization Iteration: 8801  , Accuracy:  95.3%\n",
      "Optimization Iteration: 8901  , Accuracy:  98.4%\n",
      "Time Used: 0:02:44\n"
     ]
    }
   ],
   "source": [
    "optimize(num_iterations=9000)"
   ]
  },
  {
   "cell_type": "code",
   "execution_count": 48,
   "metadata": {},
   "outputs": [
    {
     "name": "stdout",
     "output_type": "stream",
     "text": [
      "Accuracy on Test-Set: 98.9% (9890 / 10000)\n",
      "Example errors:\n"
     ]
    },
    {
     "data": {
      "image/png": "[encoded data removed]",
      "text/plain": [
       "<matplotlib.figure.Figure at 0x17485f47f28>"
      ]
     },
     "metadata": {},
     "output_type": "display_data"
    },
    {
     "name": "stdout",
     "output_type": "stream",
     "text": [
      "Confusion Matrix:\n",
      "[[ 972    0    1    0    0    1    2    1    3    0]\n",
      " [   0 1129    3    0    0    0    1    0    2    0]\n",
      " [   0    1 1025    0    0    0    0    4    2    0]\n",
      " [   0    0    2  999    0    5    0    1    2    1]\n",
      " [   0    1    1    0  977    0    1    0    0    2]\n",
      " [   1    0    0    2    0  885    2    0    1    1]\n",
      " [   1    2    0    0    2    3  949    0    1    0]\n",
      " [   1    2    4    0    0    0    0 1019    1    1]\n",
      " [   3    0    4    2    1    3    0    1  957    3]\n",
      " [   2    5    0    1    9    5    0    5    4  978]]\n"
     ]
    },
    {
     "data": {
      "image/png": "[encoded data removed]",
      "text/plain": [
       "<matplotlib.figure.Figure at 0x17482220518>"
      ]
     },
     "metadata": {},
     "output_type": "display_data"
    }
   ],
   "source": [
    "print_test_accuracy(show_example_errors=True,\n",
    "                   show_confusion_matrix=True)"
   ]
  },
  {
   "cell_type": "code",
   "execution_count": null,
   "metadata": {},
   "outputs": [],
   "source": []
  },
  {
   "cell_type": "code",
   "execution_count": null,
   "metadata": {},
   "outputs": [],
   "source": []
  }
 ],
 "metadata": {
  "kernelspec": {
   "display_name": "Python 3",
   "language": "python",
   "name": "python3"
  },
  "language_info": {
   "codemirror_mode": {
    "name": "ipython",
    "version": 3
   },
   "file_extension": ".py",
   "mimetype": "text/x-python",
   "name": "python",
   "nbconvert_exporter": "python",
   "pygments_lexer": "ipython3",
   "version": "3.6.3"
  }
 },
 "nbformat": 4,
 "nbformat_minor": 2
}
